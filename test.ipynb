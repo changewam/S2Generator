{
 "cells": [
  {
   "cell_type": "code",
   "id": "initial_id",
   "metadata": {
    "collapsed": true,
    "ExecuteTime": {
     "end_time": "2025-08-08T01:42:10.402628Z",
     "start_time": "2025-08-08T01:42:10.390415Z"
    }
   },
   "source": [
    "a = \"a + inv(1 + inv(b + c) + 2) + inv((((((a + 1) + 4)))))\"\n",
    "\n",
    "number = a.count(\"inv\")\n",
    "number\n",
    "\n",
    "import re"
   ],
   "outputs": [],
   "execution_count": 52
  },
  {
   "metadata": {
    "ExecuteTime": {
     "end_time": "2025-08-08T01:38:15.385079Z",
     "start_time": "2025-08-08T01:38:15.374826Z"
    }
   },
   "cell_type": "code",
   "source": [
    "a = \"a + inv(1 + inv(b + c) + 2) + inv(((((inv(a + 1) + 4)))))\"\n",
    "\n",
    "number = a.count(\"inv\")\n",
    "number\n",
    "\n",
    "c = 0\n",
    "start = 0\n",
    "\n",
    "while c < number:\n",
    "\n",
    "    position = a[start: ].find(\"inv\") + start\n",
    "    start = position + 1\n",
    "    print(position)\n",
    "\n",
    "    left, right = 0, 0\n",
    "    for i in range(position, len(a)):\n",
    "\n",
    "        if a[i] == \"(\":\n",
    "            left += 1\n",
    "        elif a[i] == \")\":\n",
    "            right += 1\n",
    "\n",
    "\n",
    "            if i + 1 < len(a):\n",
    "                # 可以访问这个索引\n",
    "                if a[i + 1] == \" \" and left == right:\n",
    "                    a = a[:i + 1] + \" ^ {-1}\" + a[i + 1:]\n",
    "            else:\n",
    "                if left == right:\n",
    "                    a = a + \" ^{-1}\"\n",
    "\n",
    "    c += 1\n",
    "\n",
    "a = a.replace(\"inv\", \"\")\n",
    "\n",
    "a"
   ],
   "id": "19678a90b64f8a9f",
   "outputs": [
    {
     "name": "stdout",
     "output_type": "stream",
     "text": [
      "4\n",
      "12\n",
      "44\n",
      "52\n"
     ]
    },
    {
     "data": {
      "text/plain": [
       "'a + (1 + (b + c) ^ {-1} + 2) ^ {-1} + ((((((a + 1) ^ {-1} + 4))))) ^{-1}'"
      ]
     },
     "execution_count": 47,
     "metadata": {},
     "output_type": "execute_result"
    }
   ],
   "execution_count": 47
  },
  {
   "metadata": {
    "ExecuteTime": {
     "end_time": "2025-08-08T01:47:38.091622Z",
     "start_time": "2025-08-08T01:47:38.079908Z"
    }
   },
   "cell_type": "code",
   "source": [
    "a = \"pow2(a) + pow2(1 + pow2(b + c) + 2) + pow2(((((pow2(a + 1) + 4)))))\"\n",
    "\n",
    "\n",
    "def replace_extra_brackets(text: str) -> str:\n",
    "    \"\"\"\n",
    "    Replace occurrences of extra brackets with the equivalent mathematical expression.\n",
    "\n",
    "    :param text: The input string containing extra brackets.\n",
    "    :return: The modified string with extra brackets replaced by the equivalent expression.\n",
    "    \"\"\"\n",
    "    # Replace '()' with ''\n",
    "    text = text.replace(\"()\", \"\")\n",
    "\n",
    "    # Replace '[]' with ''\n",
    "    text = text.replace(\"[]\", \"\")\n",
    "\n",
    "    # 处理两个括号中仅有的那一个字符\n",
    "    # if only_one_char_between(text):\n",
    "    return re.sub(r\"\\(([^()])\\)\", r\"\\1\", text)\n",
    "\n",
    "\n",
    "\n",
    "\n",
    "\n",
    "power(a, \"pow2\", \"2\")"
   ],
   "id": "5c4ddd2cbd4263d",
   "outputs": [
    {
     "data": {
      "text/plain": [
       "'(a) ^ 2 + (1 + (b + c) ^ 2 + 2) ^ 2 ^ 2 + ((((((a + 1) ^ 2 + 4))))) ^ 2'"
      ]
     },
     "execution_count": 57,
     "metadata": {},
     "output_type": "execute_result"
    }
   ],
   "execution_count": 57
  },
  {
   "metadata": {},
   "cell_type": "markdown",
   "source": "\"",
   "id": "27215730dad84f9b"
  },
  {
   "metadata": {
    "ExecuteTime": {
     "end_time": "2025-08-08T01:35:49.835354Z",
     "start_time": "2025-08-08T01:35:49.817454Z"
    }
   },
   "cell_type": "code",
   "source": "a[10:].find(\"pow2\")",
   "id": "dbefc1ae3770d02e",
   "outputs": [
    {
     "data": {
      "text/plain": [
       "2"
      ]
     },
     "execution_count": 35,
     "metadata": {},
     "output_type": "execute_result"
    }
   ],
   "execution_count": 35
  },
  {
   "metadata": {
    "ExecuteTime": {
     "end_time": "2025-08-08T01:31:41.275912Z",
     "start_time": "2025-08-08T01:31:41.257506Z"
    }
   },
   "cell_type": "code",
   "source": "len(a)",
   "id": "82e7728a3436810a",
   "outputs": [
    {
     "data": {
      "text/plain": [
       "45"
      ]
     },
     "execution_count": 21,
     "metadata": {},
     "output_type": "execute_result"
    }
   ],
   "execution_count": 21
  },
  {
   "metadata": {},
   "cell_type": "code",
   "outputs": [],
   "execution_count": null,
   "source": "",
   "id": "2d08e7e0befc6044"
  }
 ],
 "metadata": {
  "kernelspec": {
   "display_name": "Python 3",
   "language": "python",
   "name": "python3"
  },
  "language_info": {
   "codemirror_mode": {
    "name": "ipython",
    "version": 2
   },
   "file_extension": ".py",
   "mimetype": "text/x-python",
   "name": "python",
   "nbconvert_exporter": "python",
   "pygments_lexer": "ipython2",
   "version": "2.7.6"
  }
 },
 "nbformat": 4,
 "nbformat_minor": 5
}
