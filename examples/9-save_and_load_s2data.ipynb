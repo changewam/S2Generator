{
 "cells": [
  {
   "metadata": {},
   "cell_type": "markdown",
   "source": [
    "# How to Save and Load the Generated $S^2$ data\n",
    "\n",
    "在`exmaple 1`中我们已经展示了如何通过`Generator`对象生成时间序列和符号表达式数据，并通过`SeriesParams`和`SymbolParams`对象来传入特定的参数来进一步调控其生成过程。\n",
    "\n",
    "对于生成的$S^2$数据，我们同样在`utils`模块中给出了具体的用于保存和加载$S^2$数据的两个函数，并内置在了`Generator`对象中。"
   ],
   "id": "9ff3969de8ae6cf7"
  },
  {
   "cell_type": "code",
   "id": "initial_id",
   "metadata": {
    "collapsed": true,
    "ExecuteTime": {
     "end_time": "2025-09-03T11:53:38.057364Z",
     "start_time": "2025-09-03T11:53:36.852677Z"
    }
   },
   "source": [
    "# Importing data generators, parameter controllers and visualization functions\n",
    "from S2Generator import Generator, SeriesParams, SymbolParams, plot_series"
   ],
   "outputs": [],
   "execution_count": 1
  },
  {
   "metadata": {},
   "cell_type": "code",
   "outputs": [],
   "execution_count": null,
   "source": "",
   "id": "794314dbf29a4514"
  }
 ],
 "metadata": {
  "kernelspec": {
   "display_name": "Python 3",
   "language": "python",
   "name": "python3"
  },
  "language_info": {
   "codemirror_mode": {
    "name": "ipython",
    "version": 2
   },
   "file_extension": ".py",
   "mimetype": "text/x-python",
   "name": "python",
   "nbconvert_exporter": "python",
   "pygments_lexer": "ipython2",
   "version": "2.7.6"
  }
 },
 "nbformat": 4,
 "nbformat_minor": 5
}
