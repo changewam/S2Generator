{
 "cells": [
  {
   "cell_type": "code",
   "execution_count": null,
   "id": "initial_id",
   "metadata": {
    "collapsed": true
   },
   "outputs": [],
   "source": [
    "# Adjust the parameters here\n",
    "symbol_params = SymbolParams()\n",
    "# Set the order of differential equation solving\n",
    "symbol_params.solve_diff = 1\n",
    "\n",
    "# Create an instance\n",
    "generator = Generator(series_params=series_params, symbol_params=symbol_params)\n",
    "\n",
    "# Creating a random number object\n",
    "rng = np.random.RandomState(20)\n",
    "# Start generating symbolic expressions, sampling and generating series\n",
    "trees, x, y = generator.r(\n",
    "    rng, input_dimension=1, output_dimension=1, n_inputs_points=256\n",
    ")\n",
    "\n",
    "# Print the expressions\n",
    "print(trees)\n",
    "\n",
    "# Visualize the time series\n",
    "fig = plot_series(x, y)"
   ]
  },
  {
   "metadata": {},
   "cell_type": "code",
   "outputs": [],
   "execution_count": null,
   "source": [
    "rng = np.random.RandomState(556)  # Change the random seed\n",
    "params.solve_diff = 1  # Set the order of differential equation solving\n",
    "# Try to generate the multi-channels time series\n",
    "trees, x, y = generator.run(rng, input_dimension=2, output_dimension=2, n_points=256)\n",
    "print(trees)\n",
    "fig = plot_series(x, y)"
   ],
   "id": "aa867b625258845d"
  }
 ],
 "metadata": {
  "kernelspec": {
   "display_name": "Python 3",
   "language": "python",
   "name": "python3"
  },
  "language_info": {
   "codemirror_mode": {
    "name": "ipython",
    "version": 2
   },
   "file_extension": ".py",
   "mimetype": "text/x-python",
   "name": "python",
   "nbconvert_exporter": "python",
   "pygments_lexer": "ipython2",
   "version": "2.7.6"
  }
 },
 "nbformat": 4,
 "nbformat_minor": 5
}
