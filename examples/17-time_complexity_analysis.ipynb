{
 "cells": [
  {
   "metadata": {},
   "cell_type": "markdown",
   "source": [
    "# Time Complexity Analysis for The $\\mathcal S ^2 $ Data Generation\n",
    "\n",
    "In this section, we provide a detailed analysis and proof of the time complexity of the $S^2$ data generation mechanism. Our theoretical analysis shows that the time complexity of data generation is proportional to the length $L$ of the time series. We will then verify the specific time required for data generation using multiple sets of different lengths to validate our theoretical analysis.\n",
    "\n",
    "We define the specific symbol explanation and its  as follows. Then we use the divide-and-conquer approach to analyze the complexity of our $S^2$ data generation mechanism.\n",
    "\n",
    "| symbol | explanation                                                  |\n",
    "| ------ | ------------------------------------------------------------ |\n",
    "| $L$    | The length of time series                                    |\n",
    "| $M$    | Number of input channels                                     |\n",
    "| $N$    | Number of output channels                                    |\n",
    "| $k$    | Total number of mixed distributions used                     |\n",
    "| $p$    | Autoregressive model order in ARMA model                     |\n",
    "| $q$    | Moving average model order in ARMA model                     |\n",
    "| $P$    | Probability of choosing a sampling method                    |\n",
    "| $b$    | Number of binary operators used to construct symbolic expressions |\n",
    "| $u$    | The number of unary operators used to construct symbolic expressions |\n",
    "\n",
    "1. **Symbolic Expression Generation**: We construct symbolic expressions using a tree structure as a medium. When we have $b$ binary operators, we further insert $(b + 1)$ leaf nodes (the process from (a) to (b) in **Figure 3** in our paper). Therefore, after inserting $u$ unary operators (**Figure 3** (c)), the total number of nodes in the tree is $n = 2b + u + 1$. Because there are many ways to construct a tree, we consider the time complexity of constructing a balanced tree. Therefore, for $N$ symbols constructed, the specific complexity of this process is:\n",
    "\n",
    "$$\n",
    "O(N\\times n\\mathrm{log}n)\n",
    "$$\n",
    "\n",
    "2. **Sampling series generation**: When we want to generate a sampling time series with $M$ channels, each channel has a probability of $P$ to be sampled using a mixture distribution and a probability of $(1-P)$ to be sampled using an ARMA model. When the sampling length of the series is $L$, the complexity of generating $k$ mixture distribution and ARMA ($p$, $q$) series is $O(kL)$ and $O(L(p+q))$. Therefore, the time complexity of this process can be quantified as:\n",
    "\n",
    "$$\n",
    "O \\left ( ML \\times [Pk + (1-P)(p+q)] \\right )\n",
    "$$\n",
    "\n",
    "3. **Sampling through symbolic expressions and series**: We simplify the specific operational details of this process and only consider the time complexity of operations with variables. For a series of length L, we have $N$ symbolic expressions to be sampled, and each symbol has an average of $\\frac{M+1}{2}$ variables (Each symbolic expression may contain any number of variables from 1 to M, so here we take $\\frac{M+1}{2}=\\frac{(1+2+\\cdots+M)}{M}$ as the average probability). Then the process can be quantified as:\n",
    "\n",
    "$$\n",
    "O(N \\cdot \\frac{M+1}{2}\\cdot L)\n",
    "$$\n",
    "\n",
    "To sum up, since other variables that affect the $S^2$ sampling process are usually small, it can be intuitively understood that the time complexity of the entire sampling process is proportional to the length $L$."
   ],
   "id": "2ed46a0245a83e4"
  },
  {
   "cell_type": "code",
   "id": "initial_id",
   "metadata": {
    "collapsed": true,
    "ExecuteTime": {
     "end_time": "2025-09-17T13:24:53.245652Z",
     "start_time": "2025-09-17T13:24:53.232763Z"
    }
   },
   "source": [
    "import time\n",
    "import numpy as np\n",
    "from tqdm import tqdm\n",
    "\n",
    "from S2Generator import Generator"
   ],
   "outputs": [],
   "execution_count": 4
  },
  {
   "metadata": {},
   "cell_type": "markdown",
   "source": "In the following experiment, we generate time series data with a length interval of 16 and calculate the specific time required.",
   "id": "acdd37020a35d51e"
  },
  {
   "metadata": {
    "ExecuteTime": {
     "end_time": "2025-09-17T13:37:39.755675Z",
     "start_time": "2025-09-17T13:31:25.987366Z"
    }
   },
   "cell_type": "code",
   "source": [
    "# Create the generator instance\n",
    "generator = Generator()\n",
    "\n",
    "# The number of generated data\n",
    "try_count = 128\n",
    "\n",
    "length_array = np.arange(16, 512, 16)\n",
    "\n",
    "time_array = np.zeros_like(length_array)\n",
    "\n",
    "# Variables with different time lengths\n",
    "for index, n_points in enumerate(length_array):\n",
    "    start = time.time()\n",
    "    for seed in tqdm(range(try_count)):\n",
    "        # Create the random number generator\n",
    "        rng = np.random.RandomState(seed)\n",
    "\n",
    "        # Start generating data\n",
    "        generator.run(\n",
    "            rng=rng, input_dimension=1, output_dimension=1, n_inputs_points=n_points\n",
    "        )\n",
    "\n",
    "    # Record the time required for this length\n",
    "    end = time.time()\n",
    "    time_array[index] = end - start\n",
    "\n",
    "    # Print status information\n",
    "    print(f\"Generate Length: {n_points}, Time: {end - start}!\")"
   ],
   "id": "5c1bdbae6b0a3831",
   "outputs": [
    {
     "name": "stderr",
     "output_type": "stream",
     "text": [
      "100%|██████████| 64/64 [00:03<00:00, 19.98it/s]\n"
     ]
    },
    {
     "name": "stdout",
     "output_type": "stream",
     "text": [
      "Generate Length: 16, Time: 3.2037699222564697!\n"
     ]
    },
    {
     "name": "stderr",
     "output_type": "stream",
     "text": [
      "100%|██████████| 64/64 [00:03<00:00, 20.03it/s]\n"
     ]
    },
    {
     "name": "stdout",
     "output_type": "stream",
     "text": [
      "Generate Length: 32, Time: 3.196638822555542!\n"
     ]
    },
    {
     "name": "stderr",
     "output_type": "stream",
     "text": [
      "100%|██████████| 64/64 [00:02<00:00, 21.65it/s]\n"
     ]
    },
    {
     "name": "stdout",
     "output_type": "stream",
     "text": [
      "Generate Length: 48, Time: 2.9577019214630127!\n"
     ]
    },
    {
     "name": "stderr",
     "output_type": "stream",
     "text": [
      "100%|██████████| 64/64 [00:03<00:00, 21.22it/s]\n"
     ]
    },
    {
     "name": "stdout",
     "output_type": "stream",
     "text": [
      "Generate Length: 64, Time: 3.018876552581787!\n"
     ]
    },
    {
     "name": "stderr",
     "output_type": "stream",
     "text": [
      "100%|██████████| 64/64 [00:03<00:00, 16.87it/s]\n"
     ]
    },
    {
     "name": "stdout",
     "output_type": "stream",
     "text": [
      "Generate Length: 80, Time: 3.795687437057495!\n"
     ]
    },
    {
     "name": "stderr",
     "output_type": "stream",
     "text": [
      "100%|██████████| 64/64 [00:04<00:00, 15.89it/s]\n"
     ]
    },
    {
     "name": "stdout",
     "output_type": "stream",
     "text": [
      "Generate Length: 96, Time: 4.029794692993164!\n"
     ]
    },
    {
     "name": "stderr",
     "output_type": "stream",
     "text": [
      "100%|██████████| 64/64 [00:04<00:00, 13.73it/s]\n"
     ]
    },
    {
     "name": "stdout",
     "output_type": "stream",
     "text": [
      "Generate Length: 112, Time: 4.662473917007446!\n"
     ]
    },
    {
     "name": "stderr",
     "output_type": "stream",
     "text": [
      "100%|██████████| 64/64 [00:05<00:00, 12.31it/s]\n"
     ]
    },
    {
     "name": "stdout",
     "output_type": "stream",
     "text": [
      "Generate Length: 128, Time: 5.201029539108276!\n"
     ]
    },
    {
     "name": "stderr",
     "output_type": "stream",
     "text": [
      "100%|██████████| 64/64 [00:05<00:00, 10.91it/s]\n"
     ]
    },
    {
     "name": "stdout",
     "output_type": "stream",
     "text": [
      "Generate Length: 144, Time: 5.865360975265503!\n"
     ]
    },
    {
     "name": "stderr",
     "output_type": "stream",
     "text": [
      "100%|██████████| 64/64 [00:06<00:00,  9.33it/s]\n"
     ]
    },
    {
     "name": "stdout",
     "output_type": "stream",
     "text": [
      "Generate Length: 160, Time: 6.8657379150390625!\n"
     ]
    },
    {
     "name": "stderr",
     "output_type": "stream",
     "text": [
      "100%|██████████| 64/64 [00:07<00:00,  8.83it/s]\n"
     ]
    },
    {
     "name": "stdout",
     "output_type": "stream",
     "text": [
      "Generate Length: 176, Time: 7.251554012298584!\n"
     ]
    },
    {
     "name": "stderr",
     "output_type": "stream",
     "text": [
      "100%|██████████| 64/64 [00:07<00:00,  8.59it/s]\n"
     ]
    },
    {
     "name": "stdout",
     "output_type": "stream",
     "text": [
      "Generate Length: 192, Time: 7.455835819244385!\n"
     ]
    },
    {
     "name": "stderr",
     "output_type": "stream",
     "text": [
      "100%|██████████| 64/64 [00:08<00:00,  7.82it/s]\n"
     ]
    },
    {
     "name": "stdout",
     "output_type": "stream",
     "text": [
      "Generate Length: 208, Time: 8.18045425415039!\n"
     ]
    },
    {
     "name": "stderr",
     "output_type": "stream",
     "text": [
      "100%|██████████| 64/64 [00:09<00:00,  6.94it/s]\n"
     ]
    },
    {
     "name": "stdout",
     "output_type": "stream",
     "text": [
      "Generate Length: 224, Time: 9.22823166847229!\n"
     ]
    },
    {
     "name": "stderr",
     "output_type": "stream",
     "text": [
      "100%|██████████| 64/64 [00:10<00:00,  6.23it/s]\n"
     ]
    },
    {
     "name": "stdout",
     "output_type": "stream",
     "text": [
      "Generate Length: 240, Time: 10.28029203414917!\n"
     ]
    },
    {
     "name": "stderr",
     "output_type": "stream",
     "text": [
      "100%|██████████| 64/64 [00:10<00:00,  6.17it/s]\n"
     ]
    },
    {
     "name": "stdout",
     "output_type": "stream",
     "text": [
      "Generate Length: 256, Time: 10.368523836135864!\n"
     ]
    },
    {
     "name": "stderr",
     "output_type": "stream",
     "text": [
      "100%|██████████| 64/64 [00:12<00:00,  5.13it/s]\n"
     ]
    },
    {
     "name": "stdout",
     "output_type": "stream",
     "text": [
      "Generate Length: 272, Time: 12.483007669448853!\n"
     ]
    },
    {
     "name": "stderr",
     "output_type": "stream",
     "text": [
      "100%|██████████| 64/64 [00:13<00:00,  4.68it/s]\n"
     ]
    },
    {
     "name": "stdout",
     "output_type": "stream",
     "text": [
      "Generate Length: 288, Time: 13.678375482559204!\n"
     ]
    },
    {
     "name": "stderr",
     "output_type": "stream",
     "text": [
      "100%|██████████| 64/64 [00:12<00:00,  5.21it/s]\n"
     ]
    },
    {
     "name": "stdout",
     "output_type": "stream",
     "text": [
      "Generate Length: 304, Time: 12.286718606948853!\n"
     ]
    },
    {
     "name": "stderr",
     "output_type": "stream",
     "text": [
      "100%|██████████| 64/64 [00:12<00:00,  5.04it/s]\n"
     ]
    },
    {
     "name": "stdout",
     "output_type": "stream",
     "text": [
      "Generate Length: 320, Time: 12.699472427368164!\n"
     ]
    },
    {
     "name": "stderr",
     "output_type": "stream",
     "text": [
      "100%|██████████| 64/64 [00:13<00:00,  4.66it/s]\n"
     ]
    },
    {
     "name": "stdout",
     "output_type": "stream",
     "text": [
      "Generate Length: 336, Time: 13.73013424873352!\n"
     ]
    },
    {
     "name": "stderr",
     "output_type": "stream",
     "text": [
      "100%|██████████| 64/64 [00:15<00:00,  4.07it/s]\n"
     ]
    },
    {
     "name": "stdout",
     "output_type": "stream",
     "text": [
      "Generate Length: 352, Time: 15.73879885673523!\n"
     ]
    },
    {
     "name": "stderr",
     "output_type": "stream",
     "text": [
      "100%|██████████| 64/64 [00:16<00:00,  3.91it/s]\n"
     ]
    },
    {
     "name": "stdout",
     "output_type": "stream",
     "text": [
      "Generate Length: 368, Time: 16.362650632858276!\n"
     ]
    },
    {
     "name": "stderr",
     "output_type": "stream",
     "text": [
      "100%|██████████| 64/64 [00:16<00:00,  3.79it/s]\n"
     ]
    },
    {
     "name": "stdout",
     "output_type": "stream",
     "text": [
      "Generate Length: 384, Time: 16.890089511871338!\n"
     ]
    },
    {
     "name": "stderr",
     "output_type": "stream",
     "text": [
      "100%|██████████| 64/64 [00:17<00:00,  3.73it/s]\n"
     ]
    },
    {
     "name": "stdout",
     "output_type": "stream",
     "text": [
      "Generate Length: 400, Time: 17.161365509033203!\n"
     ]
    },
    {
     "name": "stderr",
     "output_type": "stream",
     "text": [
      "100%|██████████| 64/64 [00:22<00:00,  2.88it/s]\n"
     ]
    },
    {
     "name": "stdout",
     "output_type": "stream",
     "text": [
      "Generate Length: 416, Time: 22.19209337234497!\n"
     ]
    },
    {
     "name": "stderr",
     "output_type": "stream",
     "text": [
      "100%|██████████| 64/64 [00:22<00:00,  2.90it/s]\n"
     ]
    },
    {
     "name": "stdout",
     "output_type": "stream",
     "text": [
      "Generate Length: 432, Time: 22.098965644836426!\n"
     ]
    },
    {
     "name": "stderr",
     "output_type": "stream",
     "text": [
      "100%|██████████| 64/64 [00:21<00:00,  2.97it/s]\n"
     ]
    },
    {
     "name": "stdout",
     "output_type": "stream",
     "text": [
      "Generate Length: 448, Time: 21.55982995033264!\n"
     ]
    },
    {
     "name": "stderr",
     "output_type": "stream",
     "text": [
      "100%|██████████| 64/64 [00:26<00:00,  2.44it/s]\n"
     ]
    },
    {
     "name": "stdout",
     "output_type": "stream",
     "text": [
      "Generate Length: 464, Time: 26.206479787826538!\n"
     ]
    },
    {
     "name": "stderr",
     "output_type": "stream",
     "text": [
      "100%|██████████| 64/64 [00:25<00:00,  2.53it/s]\n"
     ]
    },
    {
     "name": "stdout",
     "output_type": "stream",
     "text": [
      "Generate Length: 480, Time: 25.284049034118652!\n"
     ]
    },
    {
     "name": "stderr",
     "output_type": "stream",
     "text": [
      "100%|██████████| 64/64 [00:29<00:00,  2.15it/s]"
     ]
    },
    {
     "name": "stdout",
     "output_type": "stream",
     "text": [
      "Generate Length: 496, Time: 29.824182271957397!\n"
     ]
    },
    {
     "name": "stderr",
     "output_type": "stream",
     "text": [
      "\n"
     ]
    }
   ],
   "execution_count": 10
  },
  {
   "metadata": {},
   "cell_type": "markdown",
   "source": [
    "From the above experimental results, we can generally see that the time required for data generation is generally proportional to the length of the time series.\n",
    "However, consider that in many cases, when we construct the symbolic expression $f(\\cdot)$ and input the stimulus time series $X$ into the system to obtain the corresponding $Y=f(X)$, the values ​​of the stimulus time series may fall outside the domain of the symbolic expression $f(\\cdot)$, resulting in sampling failure. This phenomenon will affect the sampling time."
   ],
   "id": "9a6c57b612874bce"
  },
  {
   "metadata": {
    "ExecuteTime": {
     "end_time": "2025-09-17T13:42:25.954683Z",
     "start_time": "2025-09-17T13:42:25.867018Z"
    }
   },
   "cell_type": "code",
   "source": [
    "from matplotlib import pyplot as plt\n",
    "\n",
    "fig, ax = plt.subplots(figsize=(8, 3), dpi=180)\n",
    "\n",
    "ax.plot(\n",
    "    length_array,\n",
    "    time_array,\n",
    "    color=\"royalblue\",\n",
    "    marker=\"o\",\n",
    "    markersize=5,\n",
    "    markerfacecolor=\"white\",\n",
    ")\n",
    "ax.grid(\"--\", color=\"gray\", alpha=0.4)\n",
    "ax.set_xlabel(\"The length of the generated time series\", fontsize=12)\n",
    "ax.set_ylabel(\"The time spent\", fontsize=12)"
   ],
   "id": "a84c3406cf99e045",
   "outputs": [
    {
     "data": {
      "text/plain": [
       "Text(0, 0.5, 'The time spent')"
      ]
     },
     "execution_count": 22,
     "metadata": {},
     "output_type": "execute_result"
    },
    {
     "data": {
      "text/plain": [
       "<Figure size 1440x540 with 1 Axes>"
      ],
      "image/png": "[encoded data removed]"
     },
     "metadata": {},
     "output_type": "display_data"
    }
   ],
   "execution_count": 22
  },
  {
   "metadata": {
    "ExecuteTime": {
     "end_time": "2025-09-17T13:44:26.433597Z",
     "start_time": "2025-09-17T13:44:26.230214Z"
    }
   },
   "cell_type": "code",
   "source": "fig.savefig(\"time_complexity_analysis.pdf\", dpi=1200, bbox_inches=\"tight\")",
   "id": "46fd7004a228f278",
   "outputs": [],
   "execution_count": 23
  }
 ],
 "metadata": {
  "kernelspec": {
   "display_name": "Python 3",
   "language": "python",
   "name": "python3"
  },
  "language_info": {
   "codemirror_mode": {
    "name": "ipython",
    "version": 2
   },
   "file_extension": ".py",
   "mimetype": "text/x-python",
   "name": "python",
   "nbconvert_exporter": "python",
   "pygments_lexer": "ipython2",
   "version": "2.7.6"
  }
 },
 "nbformat": 4,
 "nbformat_minor": 5
}
