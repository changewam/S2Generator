{
 "cells": [
  {
   "cell_type": "markdown",
   "id": "2ed46a0245a83e4",
   "metadata": {},
   "source": [
    "# Time Complexity Analysis for The $\\mathcal S ^2 $ Data Generation\n",
    "\n",
    "In this section, we provide a detailed analysis and proof of the time complexity of the $S^2$ data generation mechanism. Our theoretical analysis shows that the time complexity of data generation is proportional to the length $L$ of the time series. We will then verify the specific time required for data generation using multiple sets of different lengths to validate our theoretical analysis.\n",
    "\n",
    "We define the specific symbol explanation and its  as follows. Then we use the divide-and-conquer approach to analyze the complexity of our $S^2$ data generation mechanism.\n",
    "\n",
    "| symbol | explanation                                                  |\n",
    "| ------ | ------------------------------------------------------------ |\n",
    "| $L$    | The length of time series                                    |\n",
    "| $M$    | Number of input channels                                     |\n",
    "| $N$    | Number of output channels                                    |\n",
    "| $k$    | Total number of mixed distributions used                     |\n",
    "| $p$    | Autoregressive model order in ARMA model                     |\n",
    "| $q$    | Moving average model order in ARMA model                     |\n",
    "| $P$    | Probability of choosing a sampling method                    |\n",
    "| $b$    | Number of binary operators used to construct symbolic expressions |\n",
    "| $u$    | The number of unary operators used to construct symbolic expressions |\n",
    "\n",
    "1. **Symbolic Expression Generation**: We construct symbolic expressions using a tree structure as a medium. When we have $b$ binary operators, we further insert $(b + 1)$ leaf nodes (the process from (a) to (b) in **Figure 3** in our paper). Therefore, after inserting $u$ unary operators (**Figure 3** (c)), the total number of nodes in the tree is $n = 2b + u + 1$. Because there are many ways to construct a tree, we consider the time complexity of constructing a balanced tree. Therefore, for $N$ symbols constructed, the specific complexity of this process is:\n",
    "\n",
    "$$\n",
    "O(N\\times n\\mathrm{log}n)\n",
    "$$\n",
    "\n",
    "2. **Sampling series generation**: When we want to generate a sampling time series with $M$ channels, each channel has a probability of $P$ to be sampled using a mixture distribution and a probability of $(1-P)$ to be sampled using an ARMA model. When the sampling length of the series is $L$, the complexity of generating $k$ mixture distribution and ARMA ($p$, $q$) series is $O(kL)$ and $O(L(p+q))$. Therefore, the time complexity of this process can be quantified as:\n",
    "\n",
    "$$\n",
    "O \\left ( ML \\times [Pk + (1-P)(p+q)] \\right )\n",
    "$$\n",
    "\n",
    "3. **Sampling through symbolic expressions and series**: We simplify the specific operational details of this process and only consider the time complexity of operations with variables. For a series of length L, we have $N$ symbolic expressions to be sampled, and each symbol has an average of $\\frac{M+1}{2}$ variables (Each symbolic expression may contain any number of variables from 1 to M, so here we take $\\frac{M+1}{2}=\\frac{(1+2+\\cdots+M)}{M}$ as the average probability). Then the process can be quantified as:\n",
    "\n",
    "$$\n",
    "O(N \\cdot \\frac{M+1}{2}\\cdot L)\n",
    "$$\n",
    "\n",
    "To sum up, since other variables that affect the $S^2$ sampling process are usually small, it can be intuitively understood that the time complexity of the entire sampling process is proportional to the length $L$."
   ]
  },
  {
   "cell_type": "code",
   "execution_count": 4,
   "id": "initial_id",
   "metadata": {
    "ExecuteTime": {
     "end_time": "2025-09-18T02:25:10.212031Z",
     "start_time": "2025-09-18T02:25:10.202802Z"
    },
    "collapsed": true
   },
   "outputs": [],
   "source": [
    "import time\n",
    "import numpy as np\n",
    "from tqdm import tqdm\n",
    "\n",
    "from S2Generator import Generator, SymbolParams"
   ]
  },
  {
   "cell_type": "markdown",
   "id": "acdd37020a35d51e",
   "metadata": {},
   "source": [
    "In the following experiment, we generate time series data with a length interval of 16 and calculate the specific time required."
   ]
  },
  {
   "cell_type": "code",
   "execution_count": null,
   "id": "5c1bdbae6b0a3831",
   "metadata": {
    "ExecuteTime": {
     "end_time": "2025-09-18T02:42:18.540463Z",
     "start_time": "2025-09-18T02:26:02.549847Z"
    }
   },
   "outputs": [
    {
     "name": "stderr",
     "output_type": "stream",
     "text": [
      "100%|██████████| 256/256 [00:05<00:00, 48.71it/s]\n"
     ]
    },
    {
     "name": "stdout",
     "output_type": "stream",
     "text": [
      "Generate Length: 16, Time: 5.257461309432983!\n"
     ]
    },
    {
     "name": "stderr",
     "output_type": "stream",
     "text": [
      "100%|██████████| 256/256 [00:05<00:00, 50.49it/s]\n"
     ]
    },
    {
     "name": "stdout",
     "output_type": "stream",
     "text": [
      "Generate Length: 32, Time: 5.074063062667847!\n"
     ]
    },
    {
     "name": "stderr",
     "output_type": "stream",
     "text": [
      "100%|██████████| 256/256 [00:06<00:00, 40.59it/s]\n"
     ]
    },
    {
     "name": "stdout",
     "output_type": "stream",
     "text": [
      "Generate Length: 48, Time: 6.309161901473999!\n"
     ]
    },
    {
     "name": "stderr",
     "output_type": "stream",
     "text": [
      "100%|██████████| 256/256 [00:06<00:00, 40.02it/s]\n"
     ]
    },
    {
     "name": "stdout",
     "output_type": "stream",
     "text": [
      "Generate Length: 64, Time: 6.398058176040649!\n"
     ]
    },
    {
     "name": "stderr",
     "output_type": "stream",
     "text": [
      "100%|██████████| 256/256 [00:07<00:00, 35.40it/s]\n"
     ]
    },
    {
     "name": "stdout",
     "output_type": "stream",
     "text": [
      "Generate Length: 80, Time: 7.23235297203064!\n"
     ]
    },
    {
     "name": "stderr",
     "output_type": "stream",
     "text": [
      "100%|██████████| 256/256 [00:07<00:00, 32.51it/s]\n"
     ]
    },
    {
     "name": "stdout",
     "output_type": "stream",
     "text": [
      "Generate Length: 96, Time: 7.877139329910278!\n"
     ]
    },
    {
     "name": "stderr",
     "output_type": "stream",
     "text": [
      "100%|██████████| 256/256 [00:10<00:00, 23.28it/s]\n"
     ]
    },
    {
     "name": "stdout",
     "output_type": "stream",
     "text": [
      "Generate Length: 112, Time: 10.999441146850586!\n"
     ]
    },
    {
     "name": "stderr",
     "output_type": "stream",
     "text": [
      "100%|██████████| 256/256 [00:11<00:00, 21.70it/s]\n"
     ]
    },
    {
     "name": "stdout",
     "output_type": "stream",
     "text": [
      "Generate Length: 128, Time: 11.801714420318604!\n"
     ]
    },
    {
     "name": "stderr",
     "output_type": "stream",
     "text": [
      "100%|██████████| 256/256 [00:14<00:00, 18.24it/s]\n"
     ]
    },
    {
     "name": "stdout",
     "output_type": "stream",
     "text": [
      "Generate Length: 144, Time: 14.033693790435791!\n"
     ]
    },
    {
     "name": "stderr",
     "output_type": "stream",
     "text": [
      "100%|██████████| 256/256 [00:15<00:00, 16.54it/s]\n"
     ]
    },
    {
     "name": "stdout",
     "output_type": "stream",
     "text": [
      "Generate Length: 160, Time: 15.478937149047852!\n"
     ]
    },
    {
     "name": "stderr",
     "output_type": "stream",
     "text": [
      "100%|██████████| 256/256 [00:16<00:00, 15.57it/s]\n"
     ]
    },
    {
     "name": "stdout",
     "output_type": "stream",
     "text": [
      "Generate Length: 176, Time: 16.445598363876343!\n"
     ]
    },
    {
     "name": "stderr",
     "output_type": "stream",
     "text": [
      "100%|██████████| 256/256 [00:17<00:00, 14.97it/s]\n"
     ]
    },
    {
     "name": "stdout",
     "output_type": "stream",
     "text": [
      "Generate Length: 192, Time: 17.100805282592773!\n"
     ]
    },
    {
     "name": "stderr",
     "output_type": "stream",
     "text": [
      "100%|██████████| 256/256 [00:17<00:00, 14.52it/s]\n"
     ]
    },
    {
     "name": "stdout",
     "output_type": "stream",
     "text": [
      "Generate Length: 208, Time: 17.637563705444336!\n"
     ]
    },
    {
     "name": "stderr",
     "output_type": "stream",
     "text": [
      "100%|██████████| 256/256 [00:19<00:00, 12.84it/s]\n"
     ]
    },
    {
     "name": "stdout",
     "output_type": "stream",
     "text": [
      "Generate Length: 224, Time: 19.938726902008057!\n"
     ]
    },
    {
     "name": "stderr",
     "output_type": "stream",
     "text": [
      "100%|██████████| 256/256 [00:22<00:00, 11.38it/s]\n"
     ]
    },
    {
     "name": "stdout",
     "output_type": "stream",
     "text": [
      "Generate Length: 240, Time: 22.489742755889893!\n"
     ]
    },
    {
     "name": "stderr",
     "output_type": "stream",
     "text": [
      "100%|██████████| 256/256 [00:24<00:00, 10.29it/s]\n"
     ]
    },
    {
     "name": "stdout",
     "output_type": "stream",
     "text": [
      "Generate Length: 256, Time: 24.879105806350708!\n"
     ]
    },
    {
     "name": "stderr",
     "output_type": "stream",
     "text": [
      "100%|██████████| 256/256 [00:23<00:00, 10.75it/s]\n"
     ]
    },
    {
     "name": "stdout",
     "output_type": "stream",
     "text": [
      "Generate Length: 272, Time: 23.818345069885254!\n"
     ]
    },
    {
     "name": "stderr",
     "output_type": "stream",
     "text": [
      "100%|██████████| 256/256 [00:28<00:00,  9.04it/s]\n"
     ]
    },
    {
     "name": "stdout",
     "output_type": "stream",
     "text": [
      "Generate Length: 288, Time: 28.322811603546143!\n"
     ]
    },
    {
     "name": "stderr",
     "output_type": "stream",
     "text": [
      "100%|██████████| 256/256 [00:30<00:00,  8.26it/s]\n"
     ]
    },
    {
     "name": "stdout",
     "output_type": "stream",
     "text": [
      "Generate Length: 304, Time: 30.985319137573242!\n"
     ]
    },
    {
     "name": "stderr",
     "output_type": "stream",
     "text": [
      "100%|██████████| 256/256 [00:24<00:00, 10.58it/s]\n"
     ]
    },
    {
     "name": "stdout",
     "output_type": "stream",
     "text": [
      "Generate Length: 320, Time: 24.19115424156189!\n"
     ]
    },
    {
     "name": "stderr",
     "output_type": "stream",
     "text": [
      "100%|██████████| 256/256 [00:28<00:00,  8.88it/s]\n"
     ]
    },
    {
     "name": "stdout",
     "output_type": "stream",
     "text": [
      "Generate Length: 336, Time: 28.814101696014404!\n"
     ]
    },
    {
     "name": "stderr",
     "output_type": "stream",
     "text": [
      "100%|██████████| 256/256 [00:31<00:00,  8.23it/s]\n"
     ]
    },
    {
     "name": "stdout",
     "output_type": "stream",
     "text": [
      "Generate Length: 352, Time: 31.089874029159546!\n"
     ]
    },
    {
     "name": "stderr",
     "output_type": "stream",
     "text": [
      "100%|██████████| 256/256 [00:32<00:00,  7.98it/s]\n"
     ]
    },
    {
     "name": "stdout",
     "output_type": "stream",
     "text": [
      "Generate Length: 368, Time: 32.100576877593994!\n"
     ]
    },
    {
     "name": "stderr",
     "output_type": "stream",
     "text": [
      "100%|██████████| 256/256 [01:08<00:00,  3.71it/s]\n"
     ]
    },
    {
     "name": "stdout",
     "output_type": "stream",
     "text": [
      "Generate Length: 384, Time: 68.98700642585754!\n"
     ]
    },
    {
     "name": "stderr",
     "output_type": "stream",
     "text": [
      "100%|██████████| 256/256 [00:40<00:00,  6.31it/s]\n"
     ]
    },
    {
     "name": "stdout",
     "output_type": "stream",
     "text": [
      "Generate Length: 400, Time: 40.558138370513916!\n"
     ]
    },
    {
     "name": "stderr",
     "output_type": "stream",
     "text": [
      "100%|██████████| 256/256 [00:44<00:00,  5.76it/s]\n"
     ]
    },
    {
     "name": "stdout",
     "output_type": "stream",
     "text": [
      "Generate Length: 416, Time: 44.42205595970154!\n"
     ]
    },
    {
     "name": "stderr",
     "output_type": "stream",
     "text": [
      "100%|██████████| 256/256 [00:42<00:00,  5.98it/s]\n"
     ]
    },
    {
     "name": "stdout",
     "output_type": "stream",
     "text": [
      "Generate Length: 432, Time: 42.81583380699158!\n"
     ]
    },
    {
     "name": "stderr",
     "output_type": "stream",
     "text": [
      "100%|██████████| 256/256 [00:48<00:00,  5.23it/s]\n"
     ]
    },
    {
     "name": "stdout",
     "output_type": "stream",
     "text": [
      "Generate Length: 448, Time: 48.97443437576294!\n"
     ]
    },
    {
     "name": "stderr",
     "output_type": "stream",
     "text": [
      "100%|██████████| 256/256 [01:04<00:00,  3.96it/s]\n"
     ]
    },
    {
     "name": "stdout",
     "output_type": "stream",
     "text": [
      "Generate Length: 464, Time: 64.6168966293335!\n"
     ]
    },
    {
     "name": "stderr",
     "output_type": "stream",
     "text": [
      "100%|██████████| 256/256 [01:30<00:00,  2.83it/s]\n"
     ]
    },
    {
     "name": "stdout",
     "output_type": "stream",
     "text": [
      "Generate Length: 480, Time: 90.61693954467773!\n"
     ]
    },
    {
     "name": "stderr",
     "output_type": "stream",
     "text": [
      "100%|██████████| 256/256 [01:47<00:00,  2.39it/s]\n"
     ]
    },
    {
     "name": "stdout",
     "output_type": "stream",
     "text": [
      "Generate Length: 496, Time: 107.21334719657898!\n"
     ]
    },
    {
     "name": "stderr",
     "output_type": "stream",
     "text": [
      "100%|██████████| 256/256 [00:59<00:00,  4.30it/s]"
     ]
    },
    {
     "name": "stdout",
     "output_type": "stream",
     "text": [
      "Generate Length: 512, Time: 59.49609327316284!\n"
     ]
    },
    {
     "name": "stderr",
     "output_type": "stream",
     "text": [
      "\n"
     ]
    }
   ],
   "source": [
    "# Create the generator instance\n",
    "generator = Generator(symbol_params=SymbolParams(max_trials=16))\n",
    "\n",
    "# The number of generated data\n",
    "try_count = 1\n",
    "\n",
    "length_array = np.arange(16, 528, 16)\n",
    "\n",
    "time_array = np.zeros_like(length_array)\n",
    "\n",
    "# Variables with different time lengths\n",
    "for index, n_points in enumerate(length_array):\n",
    "    start = time.time()\n",
    "    for seed in tqdm(range(try_count)):\n",
    "        # Create the random number generator\n",
    "        rng = np.random.RandomState(seed)\n",
    "\n",
    "        # Start generating data\n",
    "        generator.run(\n",
    "            rng=rng, input_dimension=1, output_dimension=1, n_inputs_points=n_points\n",
    "        )\n",
    "\n",
    "    # Record the time required for this length\n",
    "    end = time.time()\n",
    "    time_array[index] = end - start\n",
    "\n",
    "    # Print status information\n",
    "    print(f\"Generate Length: {n_points}, Time: {end - start}!\")"
   ]
  },
  {
   "cell_type": "markdown",
   "id": "9a6c57b612874bce",
   "metadata": {},
   "source": [
    "From the above experimental results, we can generally see that the time required for data generation is generally proportional to the length of the time series.\n",
    "However, consider that in many cases, when we construct the symbolic expression $f(\\cdot)$ and input the stimulus time series $X$ into the system to obtain the corresponding $Y=f(X)$, the values ​​of the stimulus time series may fall outside the domain of the symbolic expression $f(\\cdot)$, resulting in sampling failure. This phenomenon will affect the sampling time."
   ]
  },
  {
   "cell_type": "code",
   "execution_count": 11,
   "id": "a84c3406cf99e045",
   "metadata": {
    "ExecuteTime": {
     "end_time": "2025-09-18T03:22:08.395753Z",
     "start_time": "2025-09-18T03:22:08.307278Z"
    }
   },
   "outputs": [
    {
     "data": {
      "text/plain": [
       "Text(0, 0.5, 'The Time Complexity Analysis')"
      ]
     },
     "execution_count": 11,
     "metadata": {},
     "output_type": "execute_result"
    },
    {
     "data": {
      "image/png": "[encoded data removed]",
      "text/plain": [
       "<Figure size 1440x540 with 1 Axes>"
      ]
     },
     "metadata": {},
     "output_type": "display_data"
    }
   ],
   "source": [
    "from matplotlib import pyplot as plt\n",
    "\n",
    "fig, ax = plt.subplots(figsize=(8, 3), dpi=180)\n",
    "\n",
    "ax.plot(\n",
    "    length_array,\n",
    "    time_array,\n",
    "    color=\"royalblue\",\n",
    "    marker=\"o\",\n",
    "    markersize=5,\n",
    "    markerfacecolor=\"white\",\n",
    ")\n",
    "ax.grid(\"--\", color=\"gray\", alpha=0.4)\n",
    "ax.set_xlabel(\"The length of the generated time series\", fontsize=12)\n",
    "ax.set_ylabel(\"The Time Complexity Analysis\", fontsize=12)"
   ]
  }
 ],
 "metadata": {
  "kernelspec": {
   "display_name": "Python 3",
   "language": "python",
   "name": "python3"
  },
  "language_info": {
   "codemirror_mode": {
    "name": "ipython",
    "version": 2
   },
   "file_extension": ".py",
   "mimetype": "text/x-python",
   "name": "python",
   "nbconvert_exporter": "python",
   "pygments_lexer": "ipython2",
   "version": "2.7.6"
  }
 },
 "nbformat": 4,
 "nbformat_minor": 5
}
