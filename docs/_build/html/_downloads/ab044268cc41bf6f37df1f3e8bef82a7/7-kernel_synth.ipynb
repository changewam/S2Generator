{
  "cells": [
    {
      "cell_type": "markdown",
      "metadata": {},
      "source": [
        "\n# Excitation Generation via KernelSynth\n\nFor a time series zero-shot forecasting model, high-quality training data is essential.\nTo further supplement the training dataset, [Chronos](https://arxiv.org/abs/2403.07815) proposed\nKernelSynth, a method to generate synthetic time series using Gaussian processes (GPs). The model struction of Chronos are show as fellow:\n\n.. figure:: https://raw.githubusercontent.com/amazon-science/chronos-forecasting/main/figures/main-figure.png\n   :width: 100%\n   :align: center\n\n   High-level depiction of Chronos. (**Left**) The input time series is scaled and quantized to obtain a sequence of tokens. (**Center**) The tokens are fed into a language model which may either be an encoder-decoder or a decoder-only model. The model is trained using the cross-entropy loss. (**Right**) During inference, we autoregressively sample tokens from the model and map them back to numerical values. Multiple trajectories are sampled to obtain a predictive distribution. The original code link is: https://github.com/amazon-science/chronos-forecasting.\n\n\nKernelSynth is inspired by the Automatic Statistician (Duvenaud et al., 2013), where a compositional search over a space of GP kernels is performed to explain the structure of a time series.\nChronos use the inverse of this process randomly compose GP kernels to generate new time series. The data generation process is shown below:\n\n.. figure:: https://raw.githubusercontent.com/wwhenxuan/S2Generator/master/images/algorithm_kernel_synth.jpg\n   :width: 100%\n   :align: center\n\nThe different kernel expressions and hyperparameter settings involved in the data generation process are shown in the following table:\n\n+--------------------+-----------------------------------------------------------------------------------------------------------------------------------------------------+----------------------------------------------------------------------------------------------------------------+\n| Kernel             | Formula                                                                                                                                             | Hyperparameters                                                                                                |\n+====================+=====================================================================================================================================================+================================================================================================================+\n| Constant           | $\\mathcal{K}_{\\mathrm{Const}}(x, x') = C$                                                                                                     | $C=1$                                                                                                    |\n+--------------------+-----------------------------------------------------------------------------------------------------------------------------------------------------+----------------------------------------------------------------------------------------------------------------+\n| White Noise        | $\\mathcal{K}_{\\mathrm{White}}(x, x') = \\sigma_n \\cdot \\mathrm{1}_{(x=x')}$                                                                    | $\\sigma_n \\in \\{ 0.1, 1 \\}$                                                                              |\n+--------------------+-----------------------------------------------------------------------------------------------------------------------------------------------------+----------------------------------------------------------------------------------------------------------------+\n| Linear             | $\\mathcal{K}_{\\mathrm{Lin}}(x, x') = \\sigma ^ 2 + x \\cdot x'$                                                                                 | $\\sigma \\in \\{ 0, 1, 10 \\}$                                                                              |\n+--------------------+-----------------------------------------------------------------------------------------------------------------------------------------------------+----------------------------------------------------------------------------------------------------------------+\n| RBF                | $\\mathcal{K}_{\\mathrm{RBF}}(x, x') = \\mathrm{exp} \\left ( - \\frac{\\left \\| x - x' \\right \\| ^ 2}{2 l ^ 2} \\right )$                           | $l \\in {0.1, 1, 10}$                                                                                     |\n+--------------------+-----------------------------------------------------------------------------------------------------------------------------------------------------+----------------------------------------------------------------------------------------------------------------+\n| Rational Quadratic | $\\mathcal{K}_{\\mathrm{RQ}}(x, x') = \\left ( 1 + \\frac{\\left \\| x - x' \\right \\| ^ 2}{2 \\alpha} \\right )$                                      | $\\alpha \\in \\{ 0.1, 1, 10 \\}$                                                                            |\n+--------------------+-----------------------------------------------------------------------------------------------------------------------------------------------------+----------------------------------------------------------------------------------------------------------------+\n| Periodic           | $\\mathcal{K}_{\\mathrm{Per}}(x, x') = \\mathrm{exp} \\left ( - 2 \\sin ^ 2 \\left ( \\pi \\frac{\\left \\| x - x' \\right \\|}{p} \\right ) \\right )$     | $p \\in \\left \\{ 24, 48, 96, 168, 336, 672, 7, 14, 30, 60, 365, 730, 4, 26, 52, 6, 12, 40, 10 \\right \\}$  |\n+--------------------+-----------------------------------------------------------------------------------------------------------------------------------------------------+----------------------------------------------------------------------------------------------------------------+\n\nIn S2Generator, we further integrated and encapsulated this data generation algorithm, primarily transforming it from a process-oriented generation approach to an object-oriented one, which facilitates parameter control.\n\nWhen we create a data generation object instance, we can adjust the parameters, mainly adjusting the minimum and maximum number of specific kernels to use, and whether to use the kernel method mentioned in the above table.\n"
      ]
    },
    {
      "cell_type": "code",
      "execution_count": null,
      "metadata": {
        "collapsed": false
      },
      "outputs": [],
      "source": [
        "import numpy as np\nfrom matplotlib import pyplot as plt\nfrom S2Generator.excitation import KernelSynth\n\n# Create the instance for ForecastPFN\nkernel_synth = KernelSynth(\n    min_kernels=1,\n    max_kernels=5,  # How many cores to use for data generation\n)\n\n# Create the random number generator\nrng = np.random.RandomState(0)\n\n# Generate the excitation through `generate` method\ntime_series = kernel_synth.generate(\n    rng=np.random.RandomState(0), input_dimension=1, n_inputs_points=512\n)\n\nprint(\n    f\"The Excitation Method: {str(kernel_synth)} and Generate the Time Series Data with Shape: {time_series.shape}\"\n)"
      ]
    },
    {
      "cell_type": "code",
      "execution_count": null,
      "metadata": {
        "collapsed": false
      },
      "outputs": [],
      "source": [
        "# Visualization for the excitation\nfig, ax = plt.subplots(figsize=(9, 2), dpi=120)\n\nax.plot(time_series, color=\"royalblue\")"
      ]
    },
    {
      "cell_type": "markdown",
      "metadata": {},
      "source": [
        "We can use the class attributes to see how many kernel methods are available.\n\n"
      ]
    },
    {
      "cell_type": "code",
      "execution_count": null,
      "metadata": {
        "collapsed": false
      },
      "outputs": [],
      "source": [
        "print(\"The Kernel Bank:\")\nprint(kernel_synth.kernel_bank)"
      ]
    },
    {
      "cell_type": "markdown",
      "metadata": {},
      "source": [
        "We can adjust and set the specific type of algorithm core to use by passing in a bool value when creating the algorithm object.\n\n"
      ]
    },
    {
      "cell_type": "code",
      "execution_count": null,
      "metadata": {
        "collapsed": false
      },
      "outputs": [],
      "source": [
        "# Create generators with different parameters by controlling variables\nexcitation_list = []\n\n# List of various algorithm kernels\nkernel_list = [\n    \"exp_sine_squared\",\n    \"dot_product\",\n    \"rbf\",\n    \"rational_quadratic\",\n    \"white_kernel\",\n    \"constant_kernel\",\n]\nparams_list = [3, 3, False, False, False, False, False, False]\n\nfor i in range(6):\n    i_list = params_list.copy()\n    i_list[i + 2] = True\n\n    # Create a specific algorithm object\n    kernel_synth = KernelSynth(*i_list)\n    kernel_synth.set_length(length=512)\n\n    print(kernel_list[i], \"bank list:\")\n    print(kernel_synth.kernel_bank, \"\\n\")\n\n    # Add the data generation object to the list\n    excitation_list.append(kernel_synth)"
      ]
    },
    {
      "cell_type": "markdown",
      "metadata": {},
      "source": [
        "We further use single-type kernel objects for data generation and visualization analysis.\n\n"
      ]
    },
    {
      "cell_type": "code",
      "execution_count": null,
      "metadata": {
        "collapsed": false
      },
      "outputs": [],
      "source": [
        "# Create the plotting figures\nfig, ax = plt.subplots(3, 2, figsize=(10, 6), dpi=160, sharex=True)\nfig.subplots_adjust(hspace=0.35)\n\nfor i in range(3):\n    for j in range(2):\n        # Data generation using an object with a single kernel parameter\n        kernel_synth = excitation_list[i * 2 + j]\n        time_series = kernel_synth.generate(\n            rng=rng, input_dimension=1, n_inputs_points=512\n        )\n\n        # plot the time series data\n        ax[i, j].plot(time_series, color=\"royalblue\")\n\n        # set the title for the kernel\n        ax[i, j].set_title(kernel_list[i * 2 + j])"
      ]
    }
  ],
  "metadata": {
    "kernelspec": {
      "display_name": "Python 3",
      "language": "python",
      "name": "python3"
    },
    "language_info": {
      "codemirror_mode": {
        "name": "ipython",
        "version": 3
      },
      "file_extension": ".py",
      "mimetype": "text/x-python",
      "name": "python",
      "nbconvert_exporter": "python",
      "pygments_lexer": "ipython3",
      "version": "3.13.5"
    }
  },
  "nbformat": 4,
  "nbformat_minor": 0
}