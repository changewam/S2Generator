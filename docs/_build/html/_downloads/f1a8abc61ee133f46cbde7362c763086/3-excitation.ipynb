{
  "cells": [
    {
      "cell_type": "markdown",
      "metadata": {},
      "source": [
        "\n# The Generation for Excitation Time Series\n\nThis module will detail the generation and manipulation of our excitation time series data.\nThe diversity of our $S^2$ data generation mechanisms is primarily due to two factors: (1) the diversity of generated symbolic expressions (complex systems) $f(\\cdot)$; and (2) the diversity of generated excitation time series data $X$.\n\nWe incorporate five different excitation time series generation mechanisms into the [Excitation](https://github.com/wwhenxuan/S2Generator/blob/main/S2Generator/excitation/_interface.py) object, including:\n\n- [MixedDistribution](https://github.com/wwhenxuan/S2Generator/blob/main/S2Generator/excitation/mixed_distribution.py) : Mainly from the field of symbolic regression [SNIP](https://arxiv.org/abs/2310.02227) , this method is obtained by sampling from a mixture of Gaussian and uniform distributions.\n- [AutoregressiveMovingAverage](https://github.com/wwhenxuan/S2Generator/blob/main/S2Generator/excitation/autoregressive_moving_average.py) : This method comes from the field of time series analysis of [SymTime](#) , which constructs a stationary time series as the excitation signal by building a random parameterized ARMA model.\n- [ForecastPFN](https://github.com/wwhenxuan/S2Generator/blob/main/S2Generator/excitation/forecast_pfn.py) : This method is derived from [ForecastPFN](https://arxiv.org/abs/2311.01933) , which is used to train zero-shot forecasting models on synthetic time series data. It considers time series data as a composition of trends and cycles based on the decomposition idea.\n- [KernelSynth](https://github.com/wwhenxuan/S2Generator/blob/main/S2Generator/excitation/kernel_synth.py) : This method comes from [Chronos](https://arxiv.org/abs/2403.07815) and generates excitation signals by constructing different periods and trends in the form of a combination of multiple different linear and nonlinear kernels.\n- [IntrinsicModeFunction](https://github.com/wwhenxuan/S2Generator/blob/main/S2Generator/excitation/intrinsic_mode_functions.py) : This method is based on the idea of signal decomposition in [PySDKit](https://github.com/wwhenxuan/PySDKit) and constructs the excitation signal by combining the eigenmode function with different signal and noise sequences.\n"
      ]
    },
    {
      "cell_type": "code",
      "execution_count": null,
      "metadata": {
        "collapsed": false
      },
      "outputs": [],
      "source": [
        "import numpy as np\nimport matplotlib.pyplot as plt\n\nfrom S2Generator import Excitation, SeriesParams\nfrom S2Generator.excitation import (\n    MixedDistribution,\n    AutoregressiveMovingAverage,\n    ForecastPFN,\n    KernelSynth,\n    IntrinsicModeFunction,\n)\n\n# Building a general interface to stimulate time series data generation\nexcitation = Excitation()  # Leave blank to use default parameters\n\nprint(excitation)"
      ]
    },
    {
      "cell_type": "markdown",
      "metadata": {},
      "source": [
        "We can generate stimulus time series data using the ``__call__`` method or the reserved ``generate`` method. The prerequisite is to pass in a random number generator with a specified random seed, and specify the length and dimension of the sequence.\n\n"
      ]
    },
    {
      "cell_type": "code",
      "execution_count": null,
      "metadata": {
        "collapsed": false
      },
      "outputs": [],
      "source": [
        "# Create the random number generator in NumPy\nrng = np.random.RandomState(42)\n\n# Generate the Excitation Time Series\ntime_series, choice_list = excitation.generate(\n    rng=rng, n_inputs_points=256, input_dimension=6, return_choice=True\n)\n\nprint(\"The shape of the time series is:\", time_series.shape)\nprint(\"The choice list is:\", choice_list)"
      ]
    },
    {
      "cell_type": "code",
      "execution_count": null,
      "metadata": {
        "collapsed": false
      },
      "outputs": [],
      "source": [
        "# Visualize the Generated time series data\nfig, ax = plt.subplots(nrows=2, ncols=3, figsize=(16, 7), dpi=250, sharex=True)\n\nfor i in range(2):\n    for j in range(3):\n        # Plotting the time series\n        ax[i, j].plot(time_series[:, i * 3 + j], color=\"royalblue\")\n        # Mark the sampling type\n        ax[i, j].set_title(choice_list[i * 3 + j])"
      ]
    },
    {
      "cell_type": "markdown",
      "metadata": {},
      "source": [
        "During data generation, we randomly select one of five methods for each channel's time series based on a specified probability. Users can specify the probability of the selected method for generating the stimulus time series data using the ``SeriesParams`` parameter.\n\n"
      ]
    },
    {
      "cell_type": "code",
      "execution_count": null,
      "metadata": {
        "collapsed": false
      },
      "outputs": [],
      "source": [
        "# The probability of artificially specifying the data generation method\nseries_params = SeriesParams(\n    forecast_pfn=0.9,\n    mixed_distribution=0.0,\n    autoregressive_moving_average=0.0,\n    kernel_synth=0.0,\n    intrinsic_mode_function=0.1,\n)\n\n# Create the new generator for excitation\nexcitation = Excitation(series_params=series_params)\n\n# Print the prob array for select\nseries_params.prob_array, excitation.prob_array"
      ]
    },
    {
      "cell_type": "code",
      "execution_count": null,
      "metadata": {
        "collapsed": false
      },
      "outputs": [],
      "source": [
        "# Generate the New Excitation Time Series\ntime_series, choice_list = excitation.generate(\n    rng=rng, n_inputs_points=256, input_dimension=6, return_choice=True\n)\n\n# Visualize the Generated time series data\nfig, ax = plt.subplots(nrows=2, ncols=3, figsize=(16, 7), dpi=250, sharex=True)\n\nfor i in range(2):\n    for j in range(3):\n        # Plotting the time series\n        ax[i, j].plot(time_series[:, i * 3 + j], color=\"royalblue\")\n        # Mark the sampling type\n        ax[i, j].set_title(choice_list[i * 3 + j])"
      ]
    },
    {
      "cell_type": "markdown",
      "metadata": {},
      "source": [
        "For each specific method for generating time series data, you can also pass in specific parameters for control and instantiation.\n\nUsing the default parameters will meet most basic data generation requirements.\n\nNext we will further demonstrate and analyze this process:\n\n"
      ]
    },
    {
      "cell_type": "code",
      "execution_count": null,
      "metadata": {
        "collapsed": false
      },
      "outputs": [],
      "source": [
        "# Create the figure for visualization\nfig, ax = plt.subplots(5, ncols=1, figsize=(12, 9), dpi=200, sharex=True)\n\n# Iterate over each different method and instantiate it\nfor idx, method in enumerate(\n    [\n        MixedDistribution,\n        AutoregressiveMovingAverage,\n        ForecastPFN,\n        KernelSynth,\n        IntrinsicModeFunction,\n    ]\n):\n    # Create directly using completely default parameters\n    generator = method()\n    # Execute the general `generate` method to generate data\n    time_series = generator.generate(\n        rng=np.random.RandomState(0), n_inputs_points=512, input_dimension=1\n    )\n    print(\"We create the excitation generator for {}\".format(str(generator)))\n\n    # Visualize the generate results\n    ax[idx].plot(time_series, color=\"royalblue\")\n\n    # Set the y label for the name of excitation\n    ax[idx].set_ylabel(str(generator))"
      ]
    }
  ],
  "metadata": {
    "kernelspec": {
      "display_name": "Python 3",
      "language": "python",
      "name": "python3"
    },
    "language_info": {
      "codemirror_mode": {
        "name": "ipython",
        "version": 3
      },
      "file_extension": ".py",
      "mimetype": "text/x-python",
      "name": "python",
      "nbconvert_exporter": "python",
      "pygments_lexer": "ipython3",
      "version": "3.10.18"
    }
  },
  "nbformat": 4,
  "nbformat_minor": 0
}