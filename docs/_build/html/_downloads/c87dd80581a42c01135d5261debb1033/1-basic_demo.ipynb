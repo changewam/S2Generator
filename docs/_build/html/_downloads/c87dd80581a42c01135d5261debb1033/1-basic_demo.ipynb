{
  "cells": [
    {
      "cell_type": "markdown",
      "metadata": {},
      "source": [
        "\n# The Demo of $S^2$ Generator for Series-Symbol Data Generation\n\nTime series data serves as the external manifestation of complex dynamical systems. This method aims to generate diverse complex systems represented by symbolic expressions $f(\\cdot)$ \u2014 through unconstrained construction. It simultaneously generates excitation time series $X \\in \\mathbb{R} ^ {M \\times L}$, which are then fed into the complex systems to produce their responses $Y=f(X) \\in \\mathbb{R} ^ {N \\times L}$. Here, $M$, $N$ and $L$ denote the number of input channels, output channels, and series length, respectively.\n\n**Note: Because the values of the stimulus time series can inflate or fall outside the domain of complex systems, the following examples may not work if your Python version and library version are inconsistent with ours. In this case, please adjust the random seed value in the random number generator.**\n"
      ]
    },
    {
      "cell_type": "code",
      "execution_count": null,
      "metadata": {
        "collapsed": false
      },
      "outputs": [],
      "source": [
        "import numpy as np\nimport sys\nimport os\n\nsys.path.append(os.path.abspath(\"..\"))\n\n# Importing data generators, parameter controllers and visualization functions\nfrom S2Generator import Generator, SeriesParams, SymbolParams, plot_series, print_hello\n\nprint_hello()"
      ]
    },
    {
      "cell_type": "code",
      "execution_count": null,
      "metadata": {
        "collapsed": false
      },
      "outputs": [],
      "source": [
        "# Adjust the parameters here\n# Create a parameter controls the generation of the excitation time series\nseries_params = SeriesParams()\n\n# Create a parameter controls the generation of the symbolic expression (complex systems)\nsymbol_params = SymbolParams()"
      ]
    },
    {
      "cell_type": "markdown",
      "metadata": {},
      "source": [
        "The core of the $S^2$ data generation mechanism is to randomly construct a large number of symbolic expressions (complex systems) $f(\\cdot)$ and stimulus time series $X$, and obtain the response of the complex system by inputting the stimulus into the complex system:\n\n\\begin{align}Y = f(X)\\end{align}\n\nwhere, the sampling multivariate time series $X = \\left [ x_1, x_2, \\cdots, x_m \\right ]  \\in \\mathbb{R}^{M \\times L}$ and the generated multivariate time series $Y = \\left [ y_1, y_2, \\cdots, y_m \\right ]  \\in \\mathbb{R}^{N \\times L}$. $M$ and $N$ are the input and output dimension for the time series, $L$ is the length of points of the time series data.\n\nAfter constructing the input parameters, we can complete this process end-to-end by creating a data generation object and executing the `run` method.\n\n"
      ]
    },
    {
      "cell_type": "code",
      "execution_count": null,
      "metadata": {
        "collapsed": false
      },
      "outputs": [],
      "source": [
        "# Create an instance\ngenerator = Generator(series_params=series_params, symbol_params=symbol_params)\n\n# Creating a random number object\nrng = np.random.RandomState(0)\n\n# Start generating symbolic expressions, sampling and generating series\ntrees, x, y = generator.run(\n    rng, input_dimension=1, output_dimension=1, n_inputs_points=256\n)\n# Print the expressions\nprint(trees)\n\n# Visualize the time series\nfig = plot_series(x, y)"
      ]
    },
    {
      "cell_type": "code",
      "execution_count": null,
      "metadata": {
        "collapsed": false
      },
      "outputs": [],
      "source": [
        "# Try to generate the 2-channels and longer time series\ntrees, x, y = generator.run(\n    rng,\n    input_dimension=2,\n    output_dimension=2,\n    n_inputs_points=512,\n    output_normalize=\"z-score\",\n)\nprint(trees)\nfig = plot_series(x, y)"
      ]
    },
    {
      "cell_type": "code",
      "execution_count": null,
      "metadata": {
        "collapsed": false
      },
      "outputs": [],
      "source": [
        "# Try to generate the 3-channels time series\ntrees, x, y = generator.run(\n    rng,\n    input_dimension=3,\n    output_dimension=3,\n    n_inputs_points=512,\n    output_normalize=\"z-score\",\n)\nprint(trees)\nfig = plot_series(x, y)"
      ]
    },
    {
      "cell_type": "code",
      "execution_count": null,
      "metadata": {
        "collapsed": false
      },
      "outputs": [],
      "source": [
        "# Save the plotting time series\nfig.savefig(\"../images/ID3_OD3.jpg\", dpi=300, bbox_inches=\"tight\")"
      ]
    }
  ],
  "metadata": {
    "kernelspec": {
      "display_name": "Python 3",
      "language": "python",
      "name": "python3"
    },
    "language_info": {
      "codemirror_mode": {
        "name": "ipython",
        "version": 3
      },
      "file_extension": ".py",
      "mimetype": "text/x-python",
      "name": "python",
      "nbconvert_exporter": "python",
      "pygments_lexer": "ipython3",
      "version": "3.13.5"
    }
  },
  "nbformat": 4,
  "nbformat_minor": 0
}