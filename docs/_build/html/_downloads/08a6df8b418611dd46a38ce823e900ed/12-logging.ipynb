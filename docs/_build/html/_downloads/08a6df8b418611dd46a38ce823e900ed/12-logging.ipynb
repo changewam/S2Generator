{
  "cells": [
    {
      "cell_type": "markdown",
      "metadata": {},
      "source": [
        "\n# The logging for $S^2$ Generator\n\nThe core of the $S^2$ data generation mechanism is to randomly construct a large number of symbolic expressions (complex systems) $f(\\cdot)$ and stimulus time series $X$, and obtain the response of the complex system by inputting the stimulus into the complex system:\n\n\\begin{align}Y = f(X).\\end{align}\n\nHowever, in this process, since the generated symbolic expression $f(\\cdot)$ has a domain, for example, the domain of $f(x) = \\mathrm{ln} (x)$ is $x \\in (0, + \\infty ]$, the domain of $f(x) = \\frac{1}{x}$ is $x \\in \\Set{ x \\mid x \\ne 0 }$.Although we usually replace $f(x) = \\mathrm{ln}(x)$ and $f(x) = \\frac{1}{x}$ with $f(x) = \\mathrm{ln}(|x|)$ and $f(x) = \\frac{1}{x + \\varepsilon}$ respectively when constructing symbolic expressions to increase the range of their domains without changing their symbolic operation logic, there are still many cases where the values fall outside the domain. When this happens, we will abandon the time series data and generate a new $X$ for resampling.\n\nIn addition, since we use the power operation pow and exponent exp when constructing the complex system $f(\\cdot)$, numerical explosion may occur when performing numerical sampling. To this end, we will limit the value of the response time series to a certain range to improve the quality of the basic representation of the time series data.\n\nFor these two reasons, we provide a status monitoring module for the data generation process. This module allows you to intuitively determine whether the stimulus time series data is successfully sampled and how many times it has been successfully sampled. You can specify the ``print_status`` and ``logging_path`` parameters in ``Generator`` to print and log status information during the execution of the data generation algorithm.\n"
      ]
    },
    {
      "cell_type": "code",
      "execution_count": null,
      "metadata": {
        "collapsed": false
      },
      "outputs": [],
      "source": [
        "import numpy as np\n\n# Importing data generators, parameter controllers and visualization functions\nfrom S2Generator import Generator, SeriesParams, SymbolParams, plot_series"
      ]
    },
    {
      "cell_type": "code",
      "execution_count": null,
      "metadata": {
        "collapsed": false
      },
      "outputs": [],
      "source": [
        "# Create an instance and print the status for the generation\ngenerator = Generator(print_status=True)\n\n# Creating a random number object\nrng = np.random.RandomState(0)\n\n# Start generating symbolic expressions, sampling and generating series\ntrees, x, y = generator.run(\n    rng, input_dimension=1, output_dimension=1, n_inputs_points=256\n)\n\n# Visualize the time series\nfig = plot_series(x, y)"
      ]
    },
    {
      "cell_type": "code",
      "execution_count": null,
      "metadata": {
        "collapsed": false
      },
      "outputs": [],
      "source": [
        "# Add the params `logging_path` to save the stats\ngenerator = Generator(print_status=True, logging_path=\".\")\n\n# Start generating symbolic expressions, sampling and generating series\ntrees, x, y = generator.run(\n    np.random.RandomState(1), input_dimension=1, output_dimension=1, n_inputs_points=256\n)\n\n# Visualize the time series\nfig = plot_series(x, y)"
      ]
    },
    {
      "cell_type": "code",
      "execution_count": null,
      "metadata": {
        "collapsed": false
      },
      "outputs": [],
      "source": [
        "# We can also generate the multivariate input and output time series\ntrees, x, y = generator.run(\n    rng, input_dimension=4, output_dimension=4, n_inputs_points=256\n)\n\n# Visualize the time series\nfig = plot_series(x, y)"
      ]
    }
  ],
  "metadata": {
    "kernelspec": {
      "display_name": "Python 3",
      "language": "python",
      "name": "python3"
    },
    "language_info": {
      "codemirror_mode": {
        "name": "ipython",
        "version": 3
      },
      "file_extension": ".py",
      "mimetype": "text/x-python",
      "name": "python",
      "nbconvert_exporter": "python",
      "pygments_lexer": "ipython3",
      "version": "3.13.5"
    }
  },
  "nbformat": 4,
  "nbformat_minor": 0
}