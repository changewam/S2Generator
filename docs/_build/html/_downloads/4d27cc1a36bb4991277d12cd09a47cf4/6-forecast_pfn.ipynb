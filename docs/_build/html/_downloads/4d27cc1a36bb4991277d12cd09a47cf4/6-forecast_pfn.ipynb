{
  "cells": [
    {
      "cell_type": "markdown",
      "metadata": {},
      "source": [
        "\n# Excitation Generation via ForecastPFN\n\nIn this example, we demonstrate how to generate incentive signals based on the method of time series combination proposed in [ForecastPFN](https://arxiv.org/abs/2311.01933). The paper primarily trained a zero-shot time series prediction model using a prior feature fitting network approach on a large amount of synthetic data.\n\nIn the S2Generator, we have improved the data generation method from the original code and provided a Python-based object-oriented programming interface to make parameter management and invocation easier.\n\nThe original code link is: https://github.com/abacusai/ForecastPFN.\n\nThis method considers the time series $y_t$ to be composed of trends and a large number of cyclical components with different frequencies. These cyclical components include weeks, months, and years. Finally, some random noise is added to the generated sequence data. For the target generated time series $y_t$, we can view it as a combination of trends and cycles:\n\n\\begin{align}y_t = \\phi(t) \\cdot z_t = \\mathrm{trend}(t) \\cdot \\mathrm{seasonal}(t) \\cdot z_t,\\end{align}\n\nwhere, $z_t$ is the noise time series and can be represented as\n\n\\begin{align}z_t = 1 + m_{\\mathrm{noise}}(z - \\bar{z}),\\end{align}\n\nwhere, $z_t$ is the noise time series and can be represented as\n\n\\begin{align}z_t = 1 + m_{\\mathrm{noise}}(z - \\bar{z}),\\end{align}\n\nwhere, $z \\sim \\mathrm{Weibull}(1, k)$, $\\bar{z} = (\\mathrm{ln}2) ^ {1 / k}$.\n\nThe trend component is made up of a linear and exponential component with coefficients:\n\n\\begin{align}\\mathrm{trend}(t) = (1 + m_{\\mathrm{linear}} \\cdot t + c_{\\mathrm{linear}})(m_{\\mathrm{exp}} \\cdot c_{\\mathrm{exp} ^ t}),\\end{align}\n\nwhere, $m_{\\mathrm{linear}}, m_{\\mathrm{exp}} ~ \\mathcal{N}(-0.01, 0.5)$, $c_{\\mathrm{linear}} \\sim \\mathcal{N}(0, 0.01)$, $c_{\\mathrm{exp}} \\sim \\mathcal N (1, 0.0005)$.\n\nFor the periodic components, we model them based on the basic idea of Fourier decomposition, representing the periodic components as a combination of different sine and cosine signals, and combining them according to weeks, months, and years. Specifically, it can be expressed as:\n\n\\begin{align}\\mathrm{seasonal}(t) = \\mathrm{seasonal_{week}}(t) \\cdot \\mathrm{seasonal_{month}}(t) \\cdot \\mathrm{seasonal_{year}}(t),\\end{align}\n\nwhere, the seasonal can be represented as\n\n\\begin{align}\\mathrm{seasonal}_{\\nu}(t) = 1 + m_{\\nu} \\sum_{f = 1}^{\\left \\lfloor p_{\\nu / 2} \\right \\rfloor }\\left [ c_{f, \\nu} \\mathrm{sin} \\left ( 2 \\pi f \\frac{t}{p_{\\nu}} \\right ) + d_{f, \\nu} \\mathrm{cos} \\left ( 2 \\pi f \\frac{t}{p_{\\nu}} \\right ) \\right ].\\end{align}\n\nWe set each $m_{\\nu} \\in \\left \\{ \\mathrm{week}, \\mathrm{month}, \\mathrm{year} \\right \\}$, separately for daily, weekly, and monthly, as follows. $\\nu = 0$ unless specified:\n\nwhere, the seasonal can be represented as:\n\n\\begin{align}\\mathrm{seasonal}_{\\nu}(t) = 1 + m_{\\nu} \\sum_{f = 1}^{\\left \\lfloor p_{\\nu / 2} \\right \\rfloor }\\left [ c_{f, \\nu} \\mathrm{sin} \\left ( 2 \\pi f \\frac{t}{p_{\\nu}} \\right ) + d_{f, \\nu} \\mathrm{cos} \\left ( 2 \\pi f \\frac{t}{p_{\\nu}} \\right ) \\right ].\\end{align}\n\nWe set each $m_{\\nu} \\in \\left \\{ \\mathrm{week}, \\mathrm{month}, \\mathrm{year} \\right \\}$, separately for daily, weekly, and monthly, as follows. $\\nu = 0$ unless specified:\n \n - Daily: $m_{\\mathrm{week}} \\sim \\mathcal{U}([0, 1])$, $m_{\\mathrm{month}} \\sim \\mathcal{U}([0, 2])$, $p_{\\mathrm{week}} = 7$, $p_{\\mathrm{week}} = 30.5$.\n - Weekly: $m_{\\mathrm{week}} \\sim \\mathcal{U}([0, 3])$, $m_{\\mathrm{month}} \\sim \\mathcal{U}([0, 1])$, $p_{\\mathrm{week}} = 2$, $p_{\\mathrm{week}} = 52$.\n - Monthly: $m_{\\mathrm{year}} \\sim \\sim \\mathcal{U}([0, 5])$, $p_{\\mathrm{year}} = 12$.\n"
      ]
    },
    {
      "cell_type": "code",
      "execution_count": null,
      "metadata": {
        "collapsed": false
      },
      "outputs": [],
      "source": [
        "import numpy as np\nfrom matplotlib import pyplot as plt\nfrom S2Generator.excitation import ForecastPFN\n\n# Create the instance for ForecastPFN\nforecast_pfn = ForecastPFN(\n    start_time=\"1885-01-01\", end_time=None\n)  # We use real year, month, and day information as timestamps for data generation\n\n# Create the random number generator\nrng = np.random.RandomState(0)\n\n# Generate the excitation through `generate` method\ntime_series = forecast_pfn.generate(\n    rng=np.random.RandomState(0), input_dimension=1, n_inputs_points=256\n)\n\nprint(\n    f\"The Excitation Method: {str(forecast_pfn)} and Generate the Time Series Data with Shape: {time_series.shape}\"\n)"
      ]
    },
    {
      "cell_type": "markdown",
      "metadata": {},
      "source": [
        "We recorded the specific parameters generated during the data generation process and encapsulated them into specific local class attributes. We can further examine the scale, offset, and noise components after invoking the `generate` method.\n\n"
      ]
    },
    {
      "cell_type": "code",
      "execution_count": null,
      "metadata": {
        "collapsed": false
      },
      "outputs": [],
      "source": [
        "# Visualization for the excitation\nfig, ax = plt.subplots(figsize=(9, 2), dpi=120)\n\nax.plot(time_series, color=\"royalblue\")\n\n# Check the params for the basis configure\nprint(\"Amplitude scaling configuration:\", forecast_pfn.scale_config)\nprint(\"Baseline offset configuration:\", forecast_pfn.offset_config)\nprint(\"Noise generation configuration:\", forecast_pfn.noise_config)"
      ]
    },
    {
      "cell_type": "markdown",
      "metadata": {},
      "source": [
        "We also provide an interface that can directly observe all parameter components within it.\n\n"
      ]
    },
    {
      "cell_type": "code",
      "execution_count": null,
      "metadata": {
        "collapsed": false
      },
      "outputs": [],
      "source": [
        "# Get the time series configuration\ntime_series_config = forecast_pfn.time_series_config\n\nprint(\"Comprehensive configuration for time series generation:\")\nprint(\n    \"Compact string representation encoding key parameters:\",\n    forecast_pfn.time_series_config,\n)\nprint(\"scale:\", time_series_config.scale)\nprint(\"offset:\", time_series_config.offset)\nprint(\"noise:\", time_series_config.noise_config)"
      ]
    },
    {
      "cell_type": "markdown",
      "metadata": {},
      "source": [
        "Further breakdown allows us to observe the specific magnitudes of each frequency component.\n\n"
      ]
    },
    {
      "cell_type": "code",
      "execution_count": null,
      "metadata": {
        "collapsed": false
      },
      "outputs": [],
      "source": [
        "print(\"Annual seasonality component weight(s):\", forecast_pfn.annual)\nprint(\"Weekly seasonality component weight(s)\", forecast_pfn.weekly)\nprint(\"Hourly seasonality component weight(s)\", forecast_pfn.hourly)\nprint(\"Minute-level seasonality component weight(s)\", forecast_pfn.minutely)"
      ]
    },
    {
      "cell_type": "markdown",
      "metadata": {},
      "source": [
        "We can also generate multi-channel time series data by specifying the number of generated channel dimensions using the `generate` method.\n\n"
      ]
    },
    {
      "cell_type": "code",
      "execution_count": null,
      "metadata": {
        "collapsed": false
      },
      "outputs": [],
      "source": [
        "# Generate the multi-dimension time series data\ntime_series = forecast_pfn.generate(\n    rng=np.random.RandomState(666), input_dimension=4, n_inputs_points=512\n)\nprint(\n    f\"The Excitation Method: {str(forecast_pfn)} and Generate the Time Series Data with Shape: {time_series.shape}\"\n)\n\n# Visualize the multi-dimension time series data\nfig, ax = plt.subplots(4, 1, figsize=(12, 6), dpi=120, sharex=True)\nfor i in range(4):\n    ax[i].plot(time_series[:, i], color=\"royalblue\")"
      ]
    }
  ],
  "metadata": {
    "kernelspec": {
      "display_name": "Python 3",
      "language": "python",
      "name": "python3"
    },
    "language_info": {
      "codemirror_mode": {
        "name": "ipython",
        "version": 3
      },
      "file_extension": ".py",
      "mimetype": "text/x-python",
      "name": "python",
      "nbconvert_exporter": "python",
      "pygments_lexer": "ipython3",
      "version": "3.10.18"
    }
  },
  "nbformat": 4,
  "nbformat_minor": 0
}