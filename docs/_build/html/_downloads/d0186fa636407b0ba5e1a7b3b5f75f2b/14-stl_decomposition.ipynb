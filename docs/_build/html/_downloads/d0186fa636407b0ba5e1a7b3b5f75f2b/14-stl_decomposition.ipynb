{
  "cells": [
    {
      "cell_type": "markdown",
      "metadata": {},
      "source": [
        "\n# The Seasonal-Trend decomposition using LOESS\n\nTo better observe the cyclical and trend characteristics of generated time series data, we have built-in time series decomposition algorithms. This example focuses on a seasonal and trend decomposition algorithm: Seasonal-Trend decomposition using LOESS. This method allows us to better observe the important components of the time series while filtering out noise.\n\nThis code comes from [PySDKit](https://github.com/wwhenxuan/PySDKit) by [changewam](https://github.com/changewam).\n\nRB C. STL: A seasonal-trend decomposition procedure based on loess[J]. J Off Stat, 1990, 6: 3-73.\n\nSTL uses LOESS (locally estimated scatterplot smoothing) to extract smooths estimates of the three components.\n\nSTL uses LOESS (locally estimated scatterplot smoothing) to extract smooths estimates of the three components.\nThe key inputs into STL are:\n\n- season - The length of the seasonal smoother. Must be odd.\n- trend - The length of the trend smoother, usually around 150% of season. Must be odd and larger than season.\n- low_pass - The length of the low-pass estimation window, usually the smallest odd number larger than the periodicity of the data.\n\nThe STL algorithm performs smoothing on the time series using LOESS in two loops; the inner loop iterates between seasonal and trend smoothing and the outer loop minimizes the effect of outliers. During the inner loop, the seasonal component is calculated first and removed to calculate the trend component. The remainder is calculated by subtracting the seasonal and trend components from the time series.\n\nThe three components of STL analysis relate to the raw time series as follows:\n\n\\begin{align}y_i = s_i + t_i + r_i\\end{align}\n\nwhere, $y_i$ is the value of the observed time series. $s_i$, $t_i$ and $r_i$ are the seasonal, trend and remainder component.\n"
      ]
    },
    {
      "cell_type": "code",
      "execution_count": null,
      "metadata": {
        "collapsed": false
      },
      "outputs": [],
      "source": [
        "import numpy as np\nimport matplotlib.pyplot as plt\n\nfrom S2Generator import Excitation\n\n# Building a general interface to stimulate time series data generation\nexcitation = Excitation()  # Leave blank to use default parameters\n\n# Generate the excitation time series\ntime_series = excitation.generate(\n    rng=np.random.RandomState(0), n_inputs_points=512, input_dimension=1\n)[:, 0]\n\nprint(\"The shape of the time series is:\", time_series.shape)"
      ]
    },
    {
      "cell_type": "code",
      "execution_count": null,
      "metadata": {
        "collapsed": false
      },
      "outputs": [],
      "source": [
        "from S2Generator.utils import STL\n\n# Create the instance for STL\nstl = STL(period=3)\n\n# Run the decomposition with `fit_transform`\nstl_results = stl.fit_transform(time_series)\n\nstr(stl_results)"
      ]
    },
    {
      "cell_type": "markdown",
      "metadata": {},
      "source": [
        "Visualize the time series and the decomposition results\n\n"
      ]
    },
    {
      "cell_type": "code",
      "execution_count": null,
      "metadata": {
        "collapsed": false
      },
      "outputs": [],
      "source": [
        "fig, ax = plt.subplots(4, 1, figsize=(12, 8), sharex=True)\n\nax[0].plot(time_series, color=\"royalblue\")\nax[0].set_ylabel(\"Observed\", fontsize=12)\nax[1].plot(stl_results.seasonal, color=\"royalblue\")\nax[1].set_ylabel(\"Seasonal\", fontsize=12)\nax[2].plot(stl_results.trend, color=\"royalblue\")\nax[2].set_ylabel(\"Trend\", fontsize=12)\nax[3].scatter(np.arange(0, 512), stl_results.resid, color=\"royalblue\", s=3)\nax[3].axhline(0, color=\"k\", linestyle=\"--\", linewidth=0.8)\nax[3].set_ylabel(\"Residual\", fontsize=12)\n\nax[0].set_title(\"The Decomposition Results for STL\", fontsize=14)\n\nfig.savefig(\"../images/stl_decomposition_results.jpg\", dpi=500, bbox_inches=\"tight\")"
      ]
    },
    {
      "cell_type": "markdown",
      "metadata": {},
      "source": [
        "From the results in the figure, it is obvious that the STL algorithm can decompose a one-dimensional time series into different trends, cycles and irregular residual components.\n\n"
      ]
    }
  ],
  "metadata": {
    "kernelspec": {
      "display_name": "Python 3",
      "language": "python",
      "name": "python3"
    },
    "language_info": {
      "codemirror_mode": {
        "name": "ipython",
        "version": 3
      },
      "file_extension": ".py",
      "mimetype": "text/x-python",
      "name": "python",
      "nbconvert_exporter": "python",
      "pygments_lexer": "ipython3",
      "version": "3.13.5"
    }
  },
  "nbformat": 4,
  "nbformat_minor": 0
}