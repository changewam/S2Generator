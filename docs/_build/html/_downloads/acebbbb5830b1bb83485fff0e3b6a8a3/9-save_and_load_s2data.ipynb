{
  "cells": [
    {
      "cell_type": "markdown",
      "metadata": {},
      "source": [
        "\n# How to Save and Load $S^2$ data\n\n\u5728 ``exmaple 1`` \u4e2d\u6211\u4eec\u5df2\u7ecf\u5c55\u793a\u4e86\u5982\u4f55\u901a\u8fc7 ``Generator`` \u5bf9\u8c61\u751f\u6210\u65f6\u95f4\u5e8f\u5217\u548c\u7b26\u53f7\u8868\u8fbe\u5f0f\u6570\u636e\uff0c\u5e76\u901a\u8fc7 ``SeriesParams`` \u548c ``SymbolParams`` \u5bf9\u8c61\u6765\u4f20\u5165\u7279\u5b9a\u7684\u53c2\u6570\u6765\u8fdb\u4e00\u6b65\u8c03\u63a7\u5176\u751f\u6210\u8fc7\u7a0b\u3002\n\n\u5bf9\u4e8e\u751f\u6210\u7684 $S^2$ \u6570\u636e\uff0c\u6211\u4eec\u540c\u6837\u5728 ``utils`` \u6a21\u5757\u4e2d\u7ed9\u51fa\u4e86\u5177\u4f53\u7684\u7528\u4e8e\u4fdd\u5b58\u548c\u52a0\u8f7d $S^2$ \u6570\u636e\u7684\u4e24\u4e2a\u51fd\u6570\uff0c\u5e76\u5185\u7f6e\u5728\u4e86 ``Generator`` \u5bf9\u8c61\u4e2d\u3002\n"
      ]
    },
    {
      "cell_type": "code",
      "execution_count": null,
      "metadata": {
        "collapsed": false
      },
      "outputs": [],
      "source": [
        "# Importing data generators, parameter controllers and visualization functions\nfrom S2Generator import Generator, SeriesParams, SymbolParams, plot_series"
      ]
    }
  ],
  "metadata": {
    "kernelspec": {
      "display_name": "Python 3",
      "language": "python",
      "name": "python3"
    },
    "language_info": {
      "codemirror_mode": {
        "name": "ipython",
        "version": 3
      },
      "file_extension": ".py",
      "mimetype": "text/x-python",
      "name": "python",
      "nbconvert_exporter": "python",
      "pygments_lexer": "ipython3",
      "version": "3.10.18"
    }
  },
  "nbformat": 4,
  "nbformat_minor": 0
}