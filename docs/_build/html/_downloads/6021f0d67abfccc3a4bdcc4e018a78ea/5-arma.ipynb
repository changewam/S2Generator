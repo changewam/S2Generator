{
  "cells": [
    {
      "cell_type": "markdown",
      "metadata": {},
      "source": [
        "\n# Excitation Generation via Autoregressive Moving Average (ARMA)\n\nIn this example we will go into detail and show how to generate motivating time series data from a Autoregressive Moving Average (ARMA) model with random params.\n\nSince generating sequential data solely by sampling from a mixed distribution tends to be inherently random, we further improve the quality of our data generation by leveraging the fundamentals of time series analysis and modeling. Specifically, we employ stochastically parameterized ARMA models to produce time series data that combines both randomness and periodic fluctuations.\n\nThe ARMA($p$, $q$) model consists of an autoregressive model AR($p$) and a moving average model MA($q$). The autoregressive component AR($p$) captures historical information of the time series, thereby reflecting past fluctuations, while the moving average component MA($q$) represents a weighted average of Gaussian sequences, introducing randomness into the time series. The model can be expressed as:\n\n\\begin{align}{{Y}_{t}}={{\\phi }_{1}}{{Y}_{t-1}}+{{\\phi }_{2}}{{Y}_{t-2}}+\\cdots +{{\\phi }_{p}}{{Y}_{t-p}}+{{e}_{t}}-{{\\theta }_{1}}{{e}_{t-1}}-{{\\theta }_{2}}{{e}_{t-2}}-\\cdots -{{\\theta }_{q}}{{e}_{t-q}},\\end{align}\n\nHere, $p$ and $q$ represent the orders of the autoregressive model and the moving average model, respectively, while $\\phi_p$ and $\\theta_q$ denote the parameters of the autoregressive and moving average processes, respectively. In generating this excitation sequence, we aim to produce a sampled excitation time series by randomly generating the parameters of the ARMA($p$, $q$) model.\n\nConsidering that the autoregressive process can easily lead to excessive accumulation of historical information and cause numerical explosion, we impose constraints on the parameters of the autoregressive model to ensure the generation of as stationary a time series as possible. The specific constraints are as follows:\n\n\\begin{align}\\left.\\begin{matrix}\n   \\phi_1 + \\phi_2 + \\cdots + \\phi_p < 1 \\\\\n   |\\phi_p| < 1\n   \\end{matrix}\\right\\}\\end{align}\n\nBelow, we will further demonstrate how to use this model to generate excitation time series data.\n"
      ]
    },
    {
      "cell_type": "code",
      "execution_count": null,
      "metadata": {
        "collapsed": false
      },
      "outputs": [],
      "source": [
        "import numpy as np\nfrom matplotlib import pyplot as plt\nfrom S2Generator.excitation import AutoregressiveMovingAverage\n\n# Create the instance for Autoregressive Moving Average\narma = AutoregressiveMovingAverage(\n    p_min=1,\n    p_max=3,  # The order for AR\n    q_min=1,\n    q_max=3,  # The order for MA\n)\n\n# Generate the excitation through `generate` method\ntime_series = arma.generate(\n    rng=np.random.RandomState(0), input_dimension=1, n_inputs_points=256\n)\n\nprint(\n    f\"The Excitation Method: {str(arma)} and Generate the Time Series Data with Shape: {time_series.shape}\"\n)"
      ]
    },
    {
      "cell_type": "markdown",
      "metadata": {},
      "source": [
        "Then, we visualize the generated time series data. We can also check the order and params of AR($p$) and MA($q$) models.\n\n"
      ]
    },
    {
      "cell_type": "code",
      "execution_count": null,
      "metadata": {
        "collapsed": false
      },
      "outputs": [],
      "source": [
        "# # Visualization for the excitation\nfig, ax = plt.subplots(figsize=(9, 2), dpi=120)\n\nax.plot(time_series, color=\"royalblue\")\n\n# Check the order\nprint(\"The order of ARMA(p, q) model:\", arma.order)\nprint(\"The params of ARMA(p, q) model:\", arma.params)"
      ]
    },
    {
      "cell_type": "markdown",
      "metadata": {},
      "source": [
        "We can also generate autoregression moving average model sampling time series data of multiple dimensions (multivariate) at once:\n\n"
      ]
    },
    {
      "cell_type": "code",
      "execution_count": null,
      "metadata": {
        "collapsed": false
      },
      "outputs": [],
      "source": [
        "# Generate the multi-dimension time series data\ntime_series = arma.generate(\n    rng=np.random.RandomState(0), input_dimension=4, n_inputs_points=512\n)\nprint(\n    f\"The Excitation Method: {str(arma)} and Generate the Time Series Data with Shape: {time_series.shape}\"\n)\n\n# Visualize the multi-dimension time series data\nfig, ax = plt.subplots(4, 1, figsize=(12, 6), dpi=120, sharex=True)\nfor i in range(4):\n    ax[i].plot(time_series[:, i], color=\"royalblue\")"
      ]
    },
    {
      "cell_type": "markdown",
      "metadata": {},
      "source": [
        "To make it easier to use, we have provided an interface for generating specific parameters. Simply input the specified order to generate the model parameters. This makes it easier for users to generate ARMA models of a specified order.\n\n"
      ]
    },
    {
      "cell_type": "code",
      "execution_count": null,
      "metadata": {
        "collapsed": false
      },
      "outputs": [],
      "source": [
        "rng = np.random.RandomState(0)\n\n# Generate the params for AR\nar_params = arma.create_autoregressive_params(rng=rng, p_order=3)\nprint(\"AR params:\", ar_params)\n\n# Generate the params for MA\nma_params = arma.create_autoregressive_params(rng=rng, p_order=3)\nprint(\"MA params:\", ma_params)\n\n# Create a zero time series\ntime_series = np.zeros(256)\n\n# Generate the excitation\ntime_series = arma.arma_series(\n    rng=rng, p_params=ar_params, q_params=ma_params, time_series=time_series\n)\n\n# # Visualization for the excitation\nfig, ax = plt.subplots(figsize=(9, 2), dpi=120)\n\nax.plot(time_series, color=\"royalblue\")"
      ]
    }
  ],
  "metadata": {
    "kernelspec": {
      "display_name": "Python 3",
      "language": "python",
      "name": "python3"
    },
    "language_info": {
      "codemirror_mode": {
        "name": "ipython",
        "version": 3
      },
      "file_extension": ".py",
      "mimetype": "text/x-python",
      "name": "python",
      "nbconvert_exporter": "python",
      "pygments_lexer": "ipython3",
      "version": "3.10.18"
    }
  },
  "nbformat": 4,
  "nbformat_minor": 0
}